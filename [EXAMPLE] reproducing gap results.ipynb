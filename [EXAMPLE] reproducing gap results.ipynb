{
 "cells": [
  {
   "cell_type": "code",
   "execution_count": 1,
   "metadata": {},
   "outputs": [],
   "source": [
    "%load_ext autoreload\n",
    "%autoreload 2"
   ]
  },
  {
   "cell_type": "code",
   "execution_count": 21,
   "metadata": {},
   "outputs": [],
   "source": [
    "from attrdict import AttrDict\n",
    "\n",
    "import pandas as pd\n",
    "import spacy\n",
    "\n",
    "from allennlp.predictors.predictor import Predictor\n",
    "from allennlp.models.archival import load_archive\n",
    "from nltk.parse.corenlp import CoreNLPParser, CoreNLPDependencyParser\n",
    "\n",
    "from utils import CoreNLPServer\n",
    "\n",
    "from sklearn.metrics import classification_report, log_loss"
   ]
  },
  {
   "cell_type": "markdown",
   "metadata": {},
   "source": [
    "* models.heuristics\n",
    "    - Contains all the heuristics models, the code repository contains models in addition to the ones being presented here.\n",
    "* models.pronoun_resolution\n",
    "    - Resolves pronoun mentions from the clusters predicted by the cored models\n",
    "* models.multi_pass_sieve\n",
    "    - Implements Backoff mechanism\n",
    "    - The functionality is similar to the multi-pass sieve algorithm proposed for coref resolution by manning et al.\n",
    "    - The stack of model is applied in the order of decreasing precision from top to bottom (or left to right if seen as arguments to the model) and increasing recall in the reverse direction."
   ]
  },
  {
   "cell_type": "code",
   "execution_count": 20,
   "metadata": {},
   "outputs": [],
   "source": [
    "# Heuristics models implement coref resolution based on heuristics described in the paper\n",
    "# Pronoun resolution is a simple wrapper to convert coref predictions into class-specific labels\n",
    "# Multi pass sieve model implements backoff mechanism\n",
    "from models.heuristics.random_distance import RandomModel\n",
    "from models.heuristics.token_distance import TokenDistanceModel\n",
    "from models.heuristics.syntactic_distance import StanfordSyntacticDistanceModel\n",
    "from models.heuristics.parallelism import AllenNLPParallelismModel as ParallelismModel\n",
    "from models.heuristics.url_title import StanfordURLTitleModel as URLModel\n",
    "\n",
    "from models.pronoun_resolution import PronounResolutionModel\n",
    "\n",
    "from models.multi_pass_sieve import MultiPassSieveModel"
   ]
  },
  {
   "cell_type": "code",
   "execution_count": 19,
   "metadata": {},
   "outputs": [],
   "source": [
    "# Has minor fixes for py3 and to take df as input instead of filepath\n",
    "from gap.gap_scorer_ext import read_annotations, calculate_scores, add_to_score_view"
   ]
  },
  {
   "cell_type": "code",
   "execution_count": 5,
   "metadata": {},
   "outputs": [],
   "source": [
    "# Instantiate stanford corenlp server\n",
    "STANFORD_CORENLP_PATH = '/home/sandeep/Downloads/stanford-corenlp-full-2018-10-05/'\n",
    "server = CoreNLPServer(classpath=STANFORD_CORENLP_PATH,\n",
    "                        corenlp_options=AttrDict({'port': 9090, \n",
    "                                                  'timeout': '600000', \n",
    "                                                  'quiet': 'true',\n",
    "                                                  'preload': 'tokenize,spplit,lemma,parse,deparse'}))\n",
    "server.start()\n",
    "STANFORD_SERVER_URL = server.url"
   ]
  },
  {
   "cell_type": "code",
   "execution_count": 7,
   "metadata": {},
   "outputs": [],
   "source": [
    "STANFORD_MODEL = CoreNLPParser(url=STANFORD_SERVER_URL)\n",
    "SPACY_MODEL = spacy.load('en_core_web_lg')\n",
    "model_url = 'https://s3-us-west-2.amazonaws.com/allennlp/models/biaffine-dependency-parser-ptb-2018.08.23.tar.gz'\n",
    "archive = load_archive(model_url, cuda_device=0)\n",
    "ALLEN_DEP_MODEL = Predictor.from_archive(archive)"
   ]
  },
  {
   "cell_type": "code",
   "execution_count": 86,
   "metadata": {
    "scrolled": true
   },
   "outputs": [
    {
     "data": {
      "text/html": [
       "<div>\n",
       "<style scoped>\n",
       "    .dataframe tbody tr th:only-of-type {\n",
       "        vertical-align: middle;\n",
       "    }\n",
       "\n",
       "    .dataframe tbody tr th {\n",
       "        vertical-align: top;\n",
       "    }\n",
       "\n",
       "    .dataframe thead th {\n",
       "        text-align: right;\n",
       "    }\n",
       "</style>\n",
       "<table border=\"1\" class=\"dataframe\">\n",
       "  <thead>\n",
       "    <tr style=\"text-align: right;\">\n",
       "      <th></th>\n",
       "      <th>id</th>\n",
       "      <th>text</th>\n",
       "      <th>pronoun</th>\n",
       "      <th>pronoun_offset</th>\n",
       "      <th>a</th>\n",
       "      <th>a_offset</th>\n",
       "      <th>a_coref</th>\n",
       "      <th>b</th>\n",
       "      <th>b_offset</th>\n",
       "      <th>b_coref</th>\n",
       "      <th>url</th>\n",
       "    </tr>\n",
       "  </thead>\n",
       "  <tbody>\n",
       "    <tr>\n",
       "      <th>0</th>\n",
       "      <td>development-1</td>\n",
       "      <td>Zoe Telford...</td>\n",
       "      <td>her</td>\n",
       "      <td>274</td>\n",
       "      <td>Cheryl Cassidy</td>\n",
       "      <td>191</td>\n",
       "      <td>True</td>\n",
       "      <td>Pauline</td>\n",
       "      <td>207</td>\n",
       "      <td>False</td>\n",
       "      <td>http://en.w...</td>\n",
       "    </tr>\n",
       "    <tr>\n",
       "      <th>1</th>\n",
       "      <td>development-2</td>\n",
       "      <td>He grew up ...</td>\n",
       "      <td>His</td>\n",
       "      <td>284</td>\n",
       "      <td>MacKenzie</td>\n",
       "      <td>228</td>\n",
       "      <td>True</td>\n",
       "      <td>Bernard Leach</td>\n",
       "      <td>251</td>\n",
       "      <td>False</td>\n",
       "      <td>http://en.w...</td>\n",
       "    </tr>\n",
       "    <tr>\n",
       "      <th>2</th>\n",
       "      <td>development-3</td>\n",
       "      <td>He had been...</td>\n",
       "      <td>his</td>\n",
       "      <td>265</td>\n",
       "      <td>Angeloz</td>\n",
       "      <td>173</td>\n",
       "      <td>False</td>\n",
       "      <td>De la Sota</td>\n",
       "      <td>246</td>\n",
       "      <td>True</td>\n",
       "      <td>http://en.w...</td>\n",
       "    </tr>\n",
       "    <tr>\n",
       "      <th>3</th>\n",
       "      <td>development-4</td>\n",
       "      <td>The current...</td>\n",
       "      <td>his</td>\n",
       "      <td>321</td>\n",
       "      <td>Hell</td>\n",
       "      <td>174</td>\n",
       "      <td>False</td>\n",
       "      <td>Henry Rosen...</td>\n",
       "      <td>336</td>\n",
       "      <td>True</td>\n",
       "      <td>http://en.w...</td>\n",
       "    </tr>\n",
       "    <tr>\n",
       "      <th>4</th>\n",
       "      <td>development-5</td>\n",
       "      <td>Her Santa F...</td>\n",
       "      <td>She</td>\n",
       "      <td>437</td>\n",
       "      <td>Kitty Oppen...</td>\n",
       "      <td>219</td>\n",
       "      <td>False</td>\n",
       "      <td>Rivera</td>\n",
       "      <td>294</td>\n",
       "      <td>True</td>\n",
       "      <td>http://en.w...</td>\n",
       "    </tr>\n",
       "    <tr>\n",
       "      <th>...</th>\n",
       "      <td>...</td>\n",
       "      <td>...</td>\n",
       "      <td>...</td>\n",
       "      <td>...</td>\n",
       "      <td>...</td>\n",
       "      <td>...</td>\n",
       "      <td>...</td>\n",
       "      <td>...</td>\n",
       "      <td>...</td>\n",
       "      <td>...</td>\n",
       "      <td>...</td>\n",
       "    </tr>\n",
       "    <tr>\n",
       "      <th>1995</th>\n",
       "      <td>development...</td>\n",
       "      <td>Faye's thir...</td>\n",
       "      <td>her</td>\n",
       "      <td>433</td>\n",
       "      <td>Nicole</td>\n",
       "      <td>255</td>\n",
       "      <td>False</td>\n",
       "      <td>Faye</td>\n",
       "      <td>328</td>\n",
       "      <td>True</td>\n",
       "      <td>http://en.w...</td>\n",
       "    </tr>\n",
       "    <tr>\n",
       "      <th>1996</th>\n",
       "      <td>development...</td>\n",
       "      <td>The plot of...</td>\n",
       "      <td>her</td>\n",
       "      <td>246</td>\n",
       "      <td>Doris Chu</td>\n",
       "      <td>111</td>\n",
       "      <td>False</td>\n",
       "      <td>Mei</td>\n",
       "      <td>215</td>\n",
       "      <td>True</td>\n",
       "      <td>http://en.w...</td>\n",
       "    </tr>\n",
       "    <tr>\n",
       "      <th>1997</th>\n",
       "      <td>development...</td>\n",
       "      <td>Grant playe...</td>\n",
       "      <td>she</td>\n",
       "      <td>348</td>\n",
       "      <td>Maria</td>\n",
       "      <td>259</td>\n",
       "      <td>True</td>\n",
       "      <td>Imelda Stau...</td>\n",
       "      <td>266</td>\n",
       "      <td>False</td>\n",
       "      <td>http://en.w...</td>\n",
       "    </tr>\n",
       "    <tr>\n",
       "      <th>1998</th>\n",
       "      <td>development...</td>\n",
       "      <td>The fashion...</td>\n",
       "      <td>She</td>\n",
       "      <td>284</td>\n",
       "      <td>Helen</td>\n",
       "      <td>145</td>\n",
       "      <td>True</td>\n",
       "      <td>Suzanne Bar...</td>\n",
       "      <td>208</td>\n",
       "      <td>False</td>\n",
       "      <td>http://en.w...</td>\n",
       "    </tr>\n",
       "    <tr>\n",
       "      <th>1999</th>\n",
       "      <td>development...</td>\n",
       "      <td>Watkins was...</td>\n",
       "      <td>her</td>\n",
       "      <td>373</td>\n",
       "      <td>Elizabeth</td>\n",
       "      <td>293</td>\n",
       "      <td>False</td>\n",
       "      <td>Watkins</td>\n",
       "      <td>347</td>\n",
       "      <td>True</td>\n",
       "      <td>http://en.w...</td>\n",
       "    </tr>\n",
       "  </tbody>\n",
       "</table>\n",
       "<p>2000 rows × 11 columns</p>\n",
       "</div>"
      ],
      "text/plain": [
       "                  id            text pronoun  pronoun_offset               a  \\\n",
       "0      development-1  Zoe Telford...     her             274  Cheryl Cassidy   \n",
       "1      development-2  He grew up ...     His             284       MacKenzie   \n",
       "2      development-3  He had been...     his             265         Angeloz   \n",
       "3      development-4  The current...     his             321            Hell   \n",
       "4      development-5  Her Santa F...     She             437  Kitty Oppen...   \n",
       "...              ...             ...     ...             ...             ...   \n",
       "1995  development...  Faye's thir...     her             433          Nicole   \n",
       "1996  development...  The plot of...     her             246       Doris Chu   \n",
       "1997  development...  Grant playe...     she             348           Maria   \n",
       "1998  development...  The fashion...     She             284           Helen   \n",
       "1999  development...  Watkins was...     her             373       Elizabeth   \n",
       "\n",
       "      a_offset  a_coref               b  b_offset  b_coref             url  \n",
       "0          191     True         Pauline       207    False  http://en.w...  \n",
       "1          228     True   Bernard Leach       251    False  http://en.w...  \n",
       "2          173    False      De la Sota       246     True  http://en.w...  \n",
       "3          174    False  Henry Rosen...       336     True  http://en.w...  \n",
       "4          219    False          Rivera       294     True  http://en.w...  \n",
       "...        ...      ...             ...       ...      ...             ...  \n",
       "1995       255    False            Faye       328     True  http://en.w...  \n",
       "1996       111    False             Mei       215     True  http://en.w...  \n",
       "1997       259     True  Imelda Stau...       266    False  http://en.w...  \n",
       "1998       145     True  Suzanne Bar...       208    False  http://en.w...  \n",
       "1999       293    False         Watkins       347     True  http://en.w...  \n",
       "\n",
       "[2000 rows x 11 columns]"
      ]
     },
     "metadata": {},
     "output_type": "display_data"
    }
   ],
   "source": [
    "train = pd.read_csv('data/gap-development.tsv', sep='\\t')\n",
    "# normalizing column names\n",
    "train.columns = map(lambda x: x.lower().replace('-', '_'), train.columns)\n",
    "with pd.option_context('display.max_rows', 10, 'display.max_colwidth', 15):\n",
    "    display(train)"
   ]
  },
  {
   "cell_type": "code",
   "execution_count": 63,
   "metadata": {
    "scrolled": true
   },
   "outputs": [],
   "source": [
    "random_coref_model = RandomModel(SPACY_MODEL)\n",
    "random_proref_model = PronounResolutionModel(random_coref_model)\n",
    "\n",
    "token_distance_coref_model = TokenDistanceModel(SPACY_MODEL)\n",
    "token_distance_proref_model = PronounResolutionModel(token_distance_coref_model)\n",
    "\n",
    "syntactic_distance_coref_model = StanfordConstituencyModel(STANFORD_MODEL)\n",
    "syntactic_distance_proref_model = PronounResolutionModel(syntactic_distance_coref_model, n_jobs=-1)\n",
    "\n",
    "parallelism_coref_model = ParallelismModel(ALLEN_DEP_MODEL, SPACY_MODEL)\n",
    "parallelism_proref_model = PronounResolutionModel(parallelism_coref_model)\n",
    "\n",
    "url_title_coref_model = URLModel(STANFORD_MODEL)\n",
    "url_title_proref_model = PronounResolutionModel(url_title_coref_model, n_jobs=-1)"
   ]
  },
  {
   "cell_type": "code",
   "execution_count": 17,
   "metadata": {
    "scrolled": true
   },
   "outputs": [
    {
     "name": "stderr",
     "output_type": "stream",
     "text": [
      "100%|██████████| 2000/2000 [00:40<00:00, 49.98it/s]\n"
     ]
    },
    {
     "data": {
      "text/html": [
       "<div>\n",
       "<style scoped>\n",
       "    .dataframe tbody tr th:only-of-type {\n",
       "        vertical-align: middle;\n",
       "    }\n",
       "\n",
       "    .dataframe tbody tr th {\n",
       "        vertical-align: top;\n",
       "    }\n",
       "\n",
       "    .dataframe thead th {\n",
       "        text-align: right;\n",
       "    }\n",
       "</style>\n",
       "<table border=\"1\" class=\"dataframe\">\n",
       "  <thead>\n",
       "    <tr style=\"text-align: right;\">\n",
       "      <th></th>\n",
       "      <th>M</th>\n",
       "      <th>F</th>\n",
       "      <th>B</th>\n",
       "      <th>O</th>\n",
       "    </tr>\n",
       "  </thead>\n",
       "  <tbody>\n",
       "    <tr>\n",
       "      <th>Random</th>\n",
       "      <td>49.13</td>\n",
       "      <td>51.42</td>\n",
       "      <td>1.05</td>\n",
       "      <td>50.28</td>\n",
       "    </tr>\n",
       "  </tbody>\n",
       "</table>\n",
       "</div>"
      ],
      "text/plain": [
       "            M      F     B      O\n",
       "Random  49.13  51.42  1.05  50.28"
      ]
     },
     "metadata": {},
     "output_type": "display_data"
    },
    {
     "name": "stderr",
     "output_type": "stream",
     "text": [
      "100%|██████████| 2000/2000 [00:40<00:00, 49.04it/s]\n"
     ]
    },
    {
     "data": {
      "text/html": [
       "<div>\n",
       "<style scoped>\n",
       "    .dataframe tbody tr th:only-of-type {\n",
       "        vertical-align: middle;\n",
       "    }\n",
       "\n",
       "    .dataframe tbody tr th {\n",
       "        vertical-align: top;\n",
       "    }\n",
       "\n",
       "    .dataframe thead th {\n",
       "        text-align: right;\n",
       "    }\n",
       "</style>\n",
       "<table border=\"1\" class=\"dataframe\">\n",
       "  <thead>\n",
       "    <tr style=\"text-align: right;\">\n",
       "      <th></th>\n",
       "      <th>M</th>\n",
       "      <th>F</th>\n",
       "      <th>B</th>\n",
       "      <th>O</th>\n",
       "    </tr>\n",
       "  </thead>\n",
       "  <tbody>\n",
       "    <tr>\n",
       "      <th>Random</th>\n",
       "      <td>49.13</td>\n",
       "      <td>51.42</td>\n",
       "      <td>1.05</td>\n",
       "      <td>50.28</td>\n",
       "    </tr>\n",
       "    <tr>\n",
       "      <th>Token Distance</th>\n",
       "      <td>51.30</td>\n",
       "      <td>47.20</td>\n",
       "      <td>0.92</td>\n",
       "      <td>49.25</td>\n",
       "    </tr>\n",
       "  </tbody>\n",
       "</table>\n",
       "</div>"
      ],
      "text/plain": [
       "                    M      F     B      O\n",
       "Random          49.13  51.42  1.05  50.28\n",
       "Token Distance  51.30  47.20  0.92  49.25"
      ]
     },
     "metadata": {},
     "output_type": "display_data"
    },
    {
     "name": "stderr",
     "output_type": "stream",
     "text": [
      "[Parallel(n_jobs=-1)]: Using backend ThreadingBackend with 16 concurrent workers.\n",
      "[Parallel(n_jobs=-1)]: Done  18 tasks      | elapsed:    1.5s\n",
      "[Parallel(n_jobs=-1)]: Done 168 tasks      | elapsed:   13.7s\n"
     ]
    },
    {
     "name": "stdout",
     "output_type": "stream",
     "text": [
      "development-217, Tokens in parse tree and input sentence don't match.\n"
     ]
    },
    {
     "name": "stderr",
     "output_type": "stream",
     "text": [
      "[Parallel(n_jobs=-1)]: Done 418 tasks      | elapsed:   33.8s\n",
      "[Parallel(n_jobs=-1)]: Done 768 tasks      | elapsed:  1.1min\n",
      "[Parallel(n_jobs=-1)]: Done 1218 tasks      | elapsed:  1.9min\n",
      "[Parallel(n_jobs=-1)]: Done 1768 tasks      | elapsed:  2.9min\n",
      "02/19/2019 20:13:10 - WARNING - urllib3.connectionpool -   Connection pool is full, discarding connection: localhost\n",
      "02/19/2019 20:13:11 - WARNING - urllib3.connectionpool -   Connection pool is full, discarding connection: localhost\n",
      "02/19/2019 20:13:11 - WARNING - urllib3.connectionpool -   Connection pool is full, discarding connection: localhost\n",
      "02/19/2019 20:13:11 - WARNING - urllib3.connectionpool -   Connection pool is full, discarding connection: localhost\n",
      "02/19/2019 20:13:11 - WARNING - urllib3.connectionpool -   Connection pool is full, discarding connection: localhost\n",
      "02/19/2019 20:13:11 - WARNING - urllib3.connectionpool -   Connection pool is full, discarding connection: localhost\n",
      "[Parallel(n_jobs=-1)]: Done 2000 out of 2000 | elapsed:  3.2min finished\n",
      "100%|██████████| 2000/2000 [00:41<00:00, 51.52it/s]\n"
     ]
    },
    {
     "data": {
      "text/html": [
       "<div>\n",
       "<style scoped>\n",
       "    .dataframe tbody tr th:only-of-type {\n",
       "        vertical-align: middle;\n",
       "    }\n",
       "\n",
       "    .dataframe tbody tr th {\n",
       "        vertical-align: top;\n",
       "    }\n",
       "\n",
       "    .dataframe thead th {\n",
       "        text-align: right;\n",
       "    }\n",
       "</style>\n",
       "<table border=\"1\" class=\"dataframe\">\n",
       "  <thead>\n",
       "    <tr style=\"text-align: right;\">\n",
       "      <th></th>\n",
       "      <th>M</th>\n",
       "      <th>F</th>\n",
       "      <th>B</th>\n",
       "      <th>O</th>\n",
       "    </tr>\n",
       "  </thead>\n",
       "  <tbody>\n",
       "    <tr>\n",
       "      <th>Random</th>\n",
       "      <td>49.13</td>\n",
       "      <td>51.42</td>\n",
       "      <td>1.05</td>\n",
       "      <td>50.28</td>\n",
       "    </tr>\n",
       "    <tr>\n",
       "      <th>Token Distance</th>\n",
       "      <td>51.30</td>\n",
       "      <td>47.20</td>\n",
       "      <td>0.92</td>\n",
       "      <td>49.25</td>\n",
       "    </tr>\n",
       "    <tr>\n",
       "      <th>Syntactic Distance</th>\n",
       "      <td>66.63</td>\n",
       "      <td>66.60</td>\n",
       "      <td>1.00</td>\n",
       "      <td>66.61</td>\n",
       "    </tr>\n",
       "  </tbody>\n",
       "</table>\n",
       "</div>"
      ],
      "text/plain": [
       "                        M      F     B      O\n",
       "Random              49.13  51.42  1.05  50.28\n",
       "Token Distance      51.30  47.20  0.92  49.25\n",
       "Syntactic Distance  66.63  66.60  1.00  66.61"
      ]
     },
     "metadata": {},
     "output_type": "display_data"
    },
    {
     "name": "stderr",
     "output_type": "stream",
     "text": [
      "  6%|▋         | 126/2000 [00:42<12:26,  2.51it/s]"
     ]
    },
    {
     "name": "stdout",
     "output_type": "stream",
     "text": [
      "Dependency parse and tokenizer tokens dont match.\n"
     ]
    },
    {
     "name": "stderr",
     "output_type": "stream",
     "text": [
      " 10%|█         | 206/2000 [01:09<10:20,  2.89it/s]"
     ]
    },
    {
     "name": "stdout",
     "output_type": "stream",
     "text": [
      "Dependency parse and tokenizer tokens dont match.\n"
     ]
    },
    {
     "name": "stderr",
     "output_type": "stream",
     "text": [
      " 48%|████▊     | 962/2000 [05:28<06:27,  2.68it/s]"
     ]
    },
    {
     "name": "stdout",
     "output_type": "stream",
     "text": [
      "Dependency parse and tokenizer tokens dont match.\n"
     ]
    },
    {
     "name": "stderr",
     "output_type": "stream",
     "text": [
      " 55%|█████▌    | 1104/2000 [06:16<04:11,  3.57it/s]"
     ]
    },
    {
     "name": "stdout",
     "output_type": "stream",
     "text": [
      "Dependency parse and tokenizer tokens dont match.\n"
     ]
    },
    {
     "name": "stderr",
     "output_type": "stream",
     "text": [
      " 91%|█████████▏| 1826/2000 [10:27<01:00,  2.89it/s]"
     ]
    },
    {
     "name": "stdout",
     "output_type": "stream",
     "text": [
      "Dependency parse and tokenizer tokens dont match.\n"
     ]
    },
    {
     "name": "stderr",
     "output_type": "stream",
     "text": [
      " 98%|█████████▊| 1957/2000 [11:10<00:15,  2.82it/s]"
     ]
    },
    {
     "name": "stdout",
     "output_type": "stream",
     "text": [
      "Dependency parse and tokenizer tokens dont match.\n"
     ]
    },
    {
     "name": "stderr",
     "output_type": "stream",
     "text": [
      "100%|██████████| 2000/2000 [11:23<00:00,  3.06it/s]\n",
      "[Parallel(n_jobs=-1)]: Using backend ThreadingBackend with 16 concurrent workers.\n",
      "[Parallel(n_jobs=-1)]: Done  18 tasks      | elapsed:    1.9s\n",
      "[Parallel(n_jobs=-1)]: Done 168 tasks      | elapsed:   14.0s\n"
     ]
    },
    {
     "name": "stdout",
     "output_type": "stream",
     "text": [
      "development-217, Tokens in parse tree and input sentence don't match.\n"
     ]
    },
    {
     "name": "stderr",
     "output_type": "stream",
     "text": [
      "[Parallel(n_jobs=-1)]: Done 418 tasks      | elapsed:   33.9s\n",
      "[Parallel(n_jobs=-1)]: Done 768 tasks      | elapsed:  1.1min\n",
      "[Parallel(n_jobs=-1)]: Done 1218 tasks      | elapsed:  1.9min\n",
      "[Parallel(n_jobs=-1)]: Done 1768 tasks      | elapsed:  2.9min\n",
      "02/19/2019 20:28:30 - WARNING - urllib3.connectionpool -   Connection pool is full, discarding connection: localhost\n",
      "02/19/2019 20:28:31 - WARNING - urllib3.connectionpool -   Connection pool is full, discarding connection: localhost\n",
      "02/19/2019 20:28:31 - WARNING - urllib3.connectionpool -   Connection pool is full, discarding connection: localhost\n",
      "02/19/2019 20:28:31 - WARNING - urllib3.connectionpool -   Connection pool is full, discarding connection: localhost\n",
      "02/19/2019 20:28:31 - WARNING - urllib3.connectionpool -   Connection pool is full, discarding connection: localhost\n",
      "02/19/2019 20:28:31 - WARNING - urllib3.connectionpool -   Connection pool is full, discarding connection: localhost\n",
      "[Parallel(n_jobs=-1)]: Done 2000 out of 2000 | elapsed:  3.2min finished\n",
      "100%|██████████| 2000/2000 [00:42<00:00, 47.29it/s]\n"
     ]
    },
    {
     "data": {
      "text/html": [
       "<div>\n",
       "<style scoped>\n",
       "    .dataframe tbody tr th:only-of-type {\n",
       "        vertical-align: middle;\n",
       "    }\n",
       "\n",
       "    .dataframe tbody tr th {\n",
       "        vertical-align: top;\n",
       "    }\n",
       "\n",
       "    .dataframe thead th {\n",
       "        text-align: right;\n",
       "    }\n",
       "</style>\n",
       "<table border=\"1\" class=\"dataframe\">\n",
       "  <thead>\n",
       "    <tr style=\"text-align: right;\">\n",
       "      <th></th>\n",
       "      <th>M</th>\n",
       "      <th>F</th>\n",
       "      <th>B</th>\n",
       "      <th>O</th>\n",
       "    </tr>\n",
       "  </thead>\n",
       "  <tbody>\n",
       "    <tr>\n",
       "      <th>Random</th>\n",
       "      <td>49.13</td>\n",
       "      <td>51.42</td>\n",
       "      <td>1.05</td>\n",
       "      <td>50.28</td>\n",
       "    </tr>\n",
       "    <tr>\n",
       "      <th>Token Distance</th>\n",
       "      <td>51.30</td>\n",
       "      <td>47.20</td>\n",
       "      <td>0.92</td>\n",
       "      <td>49.25</td>\n",
       "    </tr>\n",
       "    <tr>\n",
       "      <th>Syntactic Distance</th>\n",
       "      <td>66.63</td>\n",
       "      <td>66.60</td>\n",
       "      <td>1.00</td>\n",
       "      <td>66.61</td>\n",
       "    </tr>\n",
       "    <tr>\n",
       "      <th>Parallelism</th>\n",
       "      <td>69.16</td>\n",
       "      <td>68.39</td>\n",
       "      <td>0.99</td>\n",
       "      <td>68.77</td>\n",
       "    </tr>\n",
       "  </tbody>\n",
       "</table>\n",
       "</div>"
      ],
      "text/plain": [
       "                        M      F     B      O\n",
       "Random              49.13  51.42  1.05  50.28\n",
       "Token Distance      51.30  47.20  0.92  49.25\n",
       "Syntactic Distance  66.63  66.60  1.00  66.61\n",
       "Parallelism         69.16  68.39  0.99  68.77"
      ]
     },
     "metadata": {},
     "output_type": "display_data"
    },
    {
     "name": "stderr",
     "output_type": "stream",
     "text": [
      "[Parallel(n_jobs=-1)]: Using backend ThreadingBackend with 16 concurrent workers.\n",
      "[Parallel(n_jobs=-1)]: Done  18 tasks      | elapsed:    1.9s\n",
      "[Parallel(n_jobs=-1)]: Done 168 tasks      | elapsed:   14.0s\n"
     ]
    },
    {
     "name": "stdout",
     "output_type": "stream",
     "text": [
      "development-217, Tokens in parse tree and input sentence don't match.\n"
     ]
    },
    {
     "name": "stderr",
     "output_type": "stream",
     "text": [
      "[Parallel(n_jobs=-1)]: Done 418 tasks      | elapsed:   33.9s\n",
      "[Parallel(n_jobs=-1)]: Done 768 tasks      | elapsed:  1.1min\n",
      "[Parallel(n_jobs=-1)]: Done 1218 tasks      | elapsed:  1.9min\n",
      "[Parallel(n_jobs=-1)]: Done 1768 tasks      | elapsed:  2.9min\n",
      "02/19/2019 20:32:26 - WARNING - urllib3.connectionpool -   Connection pool is full, discarding connection: localhost\n",
      "02/19/2019 20:32:26 - WARNING - urllib3.connectionpool -   Connection pool is full, discarding connection: localhost\n",
      "02/19/2019 20:32:26 - WARNING - urllib3.connectionpool -   Connection pool is full, discarding connection: localhost\n",
      "02/19/2019 20:32:26 - WARNING - urllib3.connectionpool -   Connection pool is full, discarding connection: localhost\n",
      "02/19/2019 20:32:26 - WARNING - urllib3.connectionpool -   Connection pool is full, discarding connection: localhost\n",
      "02/19/2019 20:32:27 - WARNING - urllib3.connectionpool -   Connection pool is full, discarding connection: localhost\n",
      "[Parallel(n_jobs=-1)]: Done 2000 out of 2000 | elapsed:  3.2min finished\n",
      "  6%|▋         | 126/2000 [00:42<12:36,  2.48it/s]"
     ]
    },
    {
     "name": "stdout",
     "output_type": "stream",
     "text": [
      "Dependency parse and tokenizer tokens dont match.\n"
     ]
    },
    {
     "name": "stderr",
     "output_type": "stream",
     "text": [
      " 10%|█         | 206/2000 [01:09<10:19,  2.90it/s]"
     ]
    },
    {
     "name": "stdout",
     "output_type": "stream",
     "text": [
      "Dependency parse and tokenizer tokens dont match.\n"
     ]
    },
    {
     "name": "stderr",
     "output_type": "stream",
     "text": [
      " 48%|████▊     | 962/2000 [05:30<06:29,  2.67it/s]"
     ]
    },
    {
     "name": "stdout",
     "output_type": "stream",
     "text": [
      "Dependency parse and tokenizer tokens dont match.\n"
     ]
    },
    {
     "name": "stderr",
     "output_type": "stream",
     "text": [
      " 55%|█████▌    | 1104/2000 [06:18<04:17,  3.48it/s]"
     ]
    },
    {
     "name": "stdout",
     "output_type": "stream",
     "text": [
      "Dependency parse and tokenizer tokens dont match.\n"
     ]
    },
    {
     "name": "stderr",
     "output_type": "stream",
     "text": [
      " 91%|█████████▏| 1826/2000 [10:30<01:00,  2.86it/s]"
     ]
    },
    {
     "name": "stdout",
     "output_type": "stream",
     "text": [
      "Dependency parse and tokenizer tokens dont match.\n"
     ]
    },
    {
     "name": "stderr",
     "output_type": "stream",
     "text": [
      " 98%|█████████▊| 1957/2000 [11:13<00:15,  2.85it/s]"
     ]
    },
    {
     "name": "stdout",
     "output_type": "stream",
     "text": [
      "Dependency parse and tokenizer tokens dont match.\n"
     ]
    },
    {
     "name": "stderr",
     "output_type": "stream",
     "text": [
      "100%|██████████| 2000/2000 [11:26<00:00,  3.14it/s]\n",
      "[Parallel(n_jobs=-1)]: Using backend ThreadingBackend with 16 concurrent workers.\n",
      "[Parallel(n_jobs=-1)]: Done  18 tasks      | elapsed:    1.7s\n",
      "[Parallel(n_jobs=-1)]: Done 168 tasks      | elapsed:   14.1s\n"
     ]
    },
    {
     "name": "stdout",
     "output_type": "stream",
     "text": [
      "development-217, Tokens in parse tree and input sentence don't match.\n"
     ]
    },
    {
     "name": "stderr",
     "output_type": "stream",
     "text": [
      "[Parallel(n_jobs=-1)]: Done 418 tasks      | elapsed:   33.4s\n",
      "[Parallel(n_jobs=-1)]: Done 768 tasks      | elapsed:  1.1min\n",
      "[Parallel(n_jobs=-1)]: Done 1218 tasks      | elapsed:  1.9min\n",
      "[Parallel(n_jobs=-1)]: Done 1768 tasks      | elapsed:  2.9min\n",
      "02/19/2019 20:47:06 - WARNING - urllib3.connectionpool -   Connection pool is full, discarding connection: localhost\n",
      "02/19/2019 20:47:06 - WARNING - urllib3.connectionpool -   Connection pool is full, discarding connection: localhost\n",
      "02/19/2019 20:47:06 - WARNING - urllib3.connectionpool -   Connection pool is full, discarding connection: localhost\n",
      "02/19/2019 20:47:06 - WARNING - urllib3.connectionpool -   Connection pool is full, discarding connection: localhost\n",
      "02/19/2019 20:47:06 - WARNING - urllib3.connectionpool -   Connection pool is full, discarding connection: localhost\n",
      "02/19/2019 20:47:06 - WARNING - urllib3.connectionpool -   Connection pool is full, discarding connection: localhost\n",
      "[Parallel(n_jobs=-1)]: Done 2000 out of 2000 | elapsed:  3.2min finished\n",
      "100%|██████████| 2000/2000 [00:43<00:00, 45.60it/s]\n"
     ]
    },
    {
     "data": {
      "text/html": [
       "<div>\n",
       "<style scoped>\n",
       "    .dataframe tbody tr th:only-of-type {\n",
       "        vertical-align: middle;\n",
       "    }\n",
       "\n",
       "    .dataframe tbody tr th {\n",
       "        vertical-align: top;\n",
       "    }\n",
       "\n",
       "    .dataframe thead th {\n",
       "        text-align: right;\n",
       "    }\n",
       "</style>\n",
       "<table border=\"1\" class=\"dataframe\">\n",
       "  <thead>\n",
       "    <tr style=\"text-align: right;\">\n",
       "      <th></th>\n",
       "      <th>M</th>\n",
       "      <th>F</th>\n",
       "      <th>B</th>\n",
       "      <th>O</th>\n",
       "    </tr>\n",
       "  </thead>\n",
       "  <tbody>\n",
       "    <tr>\n",
       "      <th>Random</th>\n",
       "      <td>49.13</td>\n",
       "      <td>51.42</td>\n",
       "      <td>1.05</td>\n",
       "      <td>50.28</td>\n",
       "    </tr>\n",
       "    <tr>\n",
       "      <th>Token Distance</th>\n",
       "      <td>51.30</td>\n",
       "      <td>47.20</td>\n",
       "      <td>0.92</td>\n",
       "      <td>49.25</td>\n",
       "    </tr>\n",
       "    <tr>\n",
       "      <th>Syntactic Distance</th>\n",
       "      <td>66.63</td>\n",
       "      <td>66.60</td>\n",
       "      <td>1.00</td>\n",
       "      <td>66.61</td>\n",
       "    </tr>\n",
       "    <tr>\n",
       "      <th>Parallelism</th>\n",
       "      <td>69.16</td>\n",
       "      <td>68.39</td>\n",
       "      <td>0.99</td>\n",
       "      <td>68.77</td>\n",
       "    </tr>\n",
       "    <tr>\n",
       "      <th>Parallelism+URL</th>\n",
       "      <td>74.33</td>\n",
       "      <td>70.35</td>\n",
       "      <td>0.95</td>\n",
       "      <td>72.33</td>\n",
       "    </tr>\n",
       "  </tbody>\n",
       "</table>\n",
       "</div>"
      ],
      "text/plain": [
       "                        M      F     B      O\n",
       "Random              49.13  51.42  1.05  50.28\n",
       "Token Distance      51.30  47.20  0.92  49.25\n",
       "Syntactic Distance  66.63  66.60  1.00  66.61\n",
       "Parallelism         69.16  68.39  0.99  68.77\n",
       "Parallelism+URL     74.33  70.35  0.95  72.33"
      ]
     },
     "metadata": {},
     "output_type": "display_data"
    }
   ],
   "source": [
    "# Creates sieve pipeline of heuristics models, applying each new heuristic with appropriate backoff models\n",
    "# Multi pass sieve - order of models provided as input is important\n",
    "#    - left to right: recall increases\n",
    "#    - right to left: precision increases\n",
    "preds = MultiPassSieveModel(random_proref_model).predict(train)\n",
    "score_df = add_to_score_view(preds, train, None, 'Random')\n",
    "\n",
    "preds = MultiPassSieveModel(token_distance_proref_model).predict(train)\n",
    "score_df = add_to_score_view(preds, train, score_df, 'Token Distance')\n",
    "\n",
    "preds = MultiPassSieveModel(syntactic_distance_proref_model,\n",
    "                           token_distance_proref_model).predict(train)\n",
    "score_df = add_to_score_view(preds, train, score_df, 'Syntactic Distance')\n",
    "\n",
    "preds = MultiPassSieveModel(parallelism_proref_model,\n",
    "                            syntactic_distance_proref_model,\n",
    "                           token_distance_proref_model).predict(train)\n",
    "score_df = add_to_score_view(preds, train, score_df, 'Parallelism')\n",
    "\n",
    "preds = MultiPassSieveModel(url_title_proref_model,\n",
    "                            parallelism_proref_model,\n",
    "                            syntactic_distance_proref_model,\n",
    "                           token_distance_proref_model).predict(train)\n",
    "score_df = add_to_score_view(preds, train, score_df, 'Parallelism+URL')"
   ]
  },
  {
   "cell_type": "code",
   "execution_count": 16,
   "metadata": {},
   "outputs": [
    {
     "name": "stdout",
     "output_type": "stream",
     "text": [
      "              precision    recall  f1-score   support\n",
      "\n",
      "           A       0.68      0.75      0.71       874\n",
      "           B       0.69      0.77      0.73       925\n",
      "     NEITHER       0.00      0.00      0.00       201\n",
      "\n",
      "   micro avg       0.69      0.69      0.69      2000\n",
      "   macro avg       0.46      0.51      0.48      2000\n",
      "weighted avg       0.62      0.69      0.65      2000\n",
      " samples avg       0.69      0.69      0.69      2000\n",
      "\n"
     ]
    },
    {
     "name": "stderr",
     "output_type": "stream",
     "text": [
      "/home/sandeep/.local/lib/python3.6/site-packages/sklearn/metrics/classification.py:1143: UndefinedMetricWarning: Precision and F-score are ill-defined and being set to 0.0 in labels with no predicted samples.\n",
      "  'precision', 'predicted', average, warn_for)\n"
     ]
    }
   ],
   "source": [
    "y_pred = pd.DataFrame(preds, columns=['A', 'B'])\n",
    "y_pred['NEITHER'] = ~y_pred['A'] & ~y_pred['B']\n",
    "\n",
    "y_true = pd.DataFrame(train[['a_coref', 'b_coref']].values, columns=['A', 'B'])\n",
    "y_true['NEITHER'] = ~y_true['A'] & ~y_true['B']\n",
    "\n",
    "print(classification_report(y_true, y_pred, target_names=['A', 'B', 'NEITHER']))"
   ]
  },
  {
   "cell_type": "code",
   "execution_count": 22,
   "metadata": {},
   "outputs": [
    {
     "data": {
      "text/plain": [
       "0.8393752431386904"
      ]
     },
     "execution_count": 22,
     "metadata": {},
     "output_type": "execute_result"
    }
   ],
   "source": [
    "# shift the predictions by 0.25\n",
    "log_loss(y_true, y_pred + 0.25)"
   ]
  },
  {
   "cell_type": "code",
   "execution_count": null,
   "metadata": {},
   "outputs": [],
   "source": []
  }
 ],
 "metadata": {
  "kernelspec": {
   "display_name": "Python 3",
   "language": "python",
   "name": "python3"
  },
  "language_info": {
   "codemirror_mode": {
    "name": "ipython",
    "version": 3
   },
   "file_extension": ".py",
   "mimetype": "text/x-python",
   "name": "python",
   "nbconvert_exporter": "python",
   "pygments_lexer": "ipython3",
   "version": "3.6.7"
  }
 },
 "nbformat": 4,
 "nbformat_minor": 2
}
